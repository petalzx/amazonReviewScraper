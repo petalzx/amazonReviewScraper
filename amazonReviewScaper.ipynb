{
  "nbformat": 4,
  "nbformat_minor": 0,
  "metadata": {
    "colab": {
      "provenance": [],
      "authorship_tag": "ABX9TyPRI/6EeCMr/MUcbfUoJoSr",
      "include_colab_link": true
    },
    "kernelspec": {
      "name": "python3",
      "display_name": "Python 3"
    },
    "language_info": {
      "name": "python"
    }
  },
  "cells": [
    {
      "cell_type": "markdown",
      "metadata": {
        "id": "view-in-github",
        "colab_type": "text"
      },
      "source": [
        "<a href=\"https://colab.research.google.com/github/petalzx/amazonReviewScraper/blob/main/amazonReviewScaper.ipynb\" target=\"_parent\"><img src=\"https://colab.research.google.com/assets/colab-badge.svg\" alt=\"Open In Colab\"/></a>"
      ]
    },
    {
      "cell_type": "markdown",
      "source": [
        "Amazon Review Web Scaper"
      ],
      "metadata": {
        "id": "LqBeC7Ke58y0"
      }
    },
    {
      "cell_type": "code",
      "execution_count": 1,
      "metadata": {
        "id": "zyxLvRn4bU3Q"
      },
      "outputs": [],
      "source": [
        "from bs4 import BeautifulSoup as bs\n",
        "import requests\n",
        "import pandas as pd"
      ]
    },
    {
      "cell_type": "code",
      "source": [
        "#Modify the search_query in order to create data set from a different search\n",
        "search_query = 'headphones'\n",
        "base_url = 'https://www.amazon.com/s?k='"
      ],
      "metadata": {
        "id": "p-sDl7aR6KEU"
      },
      "execution_count": 2,
      "outputs": []
    },
    {
      "cell_type": "code",
      "source": [
        "url = base_url + search_query\n",
        "header = {'User-Agent': 'Mozilla/5.0 (Windows NT 10.0; Win64; x64) AppleWebKit/537.36 (KHTML, like Gecko) Chrome/108.0.0.0 Safari/537.36', \n",
        "          'referer':'https://www.amazon.com/s?k=headphones&crid=3RIA528VORR9E&sprefix=headphones%2Caps%2C107&ref=nb_sb_noss_2'}"
      ],
      "metadata": {
        "id": "qo8mZ94zGmDw"
      },
      "execution_count": 3,
      "outputs": []
    },
    {
      "cell_type": "code",
      "source": [
        "#generating search response\n",
        "response = requests.get(url, headers=header)\n",
        "response.status_code"
      ],
      "metadata": {
        "id": "-wD4ZyY7LThA",
        "colab": {
          "base_uri": "https://localhost:8080/"
        },
        "outputId": "638a1a13-2795-4f2a-adef-05aa6e79fff5"
      },
      "execution_count": 4,
      "outputs": [
        {
          "output_type": "execute_result",
          "data": {
            "text/plain": [
              "200"
            ]
          },
          "metadata": {},
          "execution_count": 4
        }
      ]
    },
    {
      "cell_type": "code",
      "source": [
        "#scape Amazon reviews of products that pop up from a specific search_query\n",
        "def search(search_query):\n",
        "  url = 'https://www.amazon.com/s?k=' + search_query\n",
        "  print(url)\n",
        "  response = requests.get(url, headers=header)\n",
        "  if response.status_code==200:\n",
        "    return response\n",
        "  return \"Error\""
      ],
      "metadata": {
        "id": "F88JtYDnSxvD"
      },
      "execution_count": 5,
      "outputs": []
    },
    {
      "cell_type": "code",
      "source": [
        "#scape Amazon reviews of individual product pages using asin indentification number\n",
        "def asinSearch(asin):\n",
        "  url = 'https://www.amazon.com/dp/' + asin\n",
        "  print(url)\n",
        "  response = requests.get(url, headers=header)\n",
        "  if response.status_code==200:\n",
        "    return response\n",
        "  return \"Error\""
      ],
      "metadata": {
        "id": "kWKshg5XUAbO"
      },
      "execution_count": 6,
      "outputs": []
    },
    {
      "cell_type": "code",
      "source": [
        "#brings us to \"see all reviews\" page\n",
        "def reviewSearch(review_url):\n",
        "  url = \"https://www.amazon.com\" + review_url\n",
        "  print(url)\n",
        "  response = requests.get(url, headers=header)\n",
        "  if response.status_code==200:\n",
        "    return response\n",
        "  return \"Error\""
      ],
      "metadata": {
        "id": "gL7qHdHLV85_"
      },
      "execution_count": 7,
      "outputs": []
    },
    {
      "cell_type": "code",
      "source": [
        "product_names = []\n",
        "response = search(search_query)\n",
        "soup = bs(response.content)\n",
        "for i in soup.find_all('span', {'class':'a-size-medium a-color-base a-text-normal'}):\n",
        "  product_names.append(i.text)"
      ],
      "metadata": {
        "id": "FLQMs9P45VZr",
        "colab": {
          "base_uri": "https://localhost:8080/"
        },
        "outputId": "d3fb1b19-cd02-4ecd-e0fa-6d151aef142b"
      },
      "execution_count": 8,
      "outputs": [
        {
          "output_type": "stream",
          "name": "stdout",
          "text": [
            "https://www.amazon.com/s?k=headphones\n"
          ]
        }
      ]
    },
    {
      "cell_type": "code",
      "source": [
        "product_price = []\n",
        "for i in soup.find_all('span', {'class':'a-offscreen'}):\n",
        "  product_price.append(i.text)"
      ],
      "metadata": {
        "id": "6VcAgR5C78Ol"
      },
      "execution_count": 9,
      "outputs": []
    },
    {
      "cell_type": "code",
      "source": [
        "product_asin = []\n",
        "for i in soup.find_all('div',{'class':'sg-col-20-of-24 s-result-item s-asin sg-col-0-of-12 sg-col-16-of-20 sg-col s-widget-spacing-small sg-col-12-of-16'}):\n",
        "  product_asin.append(i['data-asin'])"
      ],
      "metadata": {
        "id": "4FSv3oPy8sTc"
      },
      "execution_count": 10,
      "outputs": []
    },
    {
      "cell_type": "code",
      "source": [
        "product_review_url = []\n",
        "for i in range(len(product_asin)):\n",
        "  response = asinSearch(product_asin[i])\n",
        "  soup = bs(response.content)\n",
        "  product_review_url.append(soup.find('a',{'class':'a-link-emphasis a-text-bold'}).get('href'))"
      ],
      "metadata": {
        "id": "5M0OgusW03wt",
        "colab": {
          "base_uri": "https://localhost:8080/"
        },
        "outputId": "c4c8a43e-4ce5-48b0-964c-00a111786208"
      },
      "execution_count": 11,
      "outputs": [
        {
          "output_type": "stream",
          "name": "stdout",
          "text": [
            "https://www.amazon.com/dp/B08528YFM3\n",
            "https://www.amazon.com/dp/B07YVZ15SK\n",
            "https://www.amazon.com/dp/B01M0GB8CC\n",
            "https://www.amazon.com/dp/B08WM3LMJF\n",
            "https://www.amazon.com/dp/B08VNFD8FS\n",
            "https://www.amazon.com/dp/B09WQ1FB5R\n",
            "https://www.amazon.com/dp/B0BLZ9PJVD\n",
            "https://www.amazon.com/dp/B00NJ2M33I\n",
            "https://www.amazon.com/dp/B08WR6YDKP\n",
            "https://www.amazon.com/dp/B06X16Z7DZ\n",
            "https://www.amazon.com/dp/B094NC89P9\n",
            "https://www.amazon.com/dp/B07NM3RSRQ\n",
            "https://www.amazon.com/dp/B08G1XKY6N\n",
            "https://www.amazon.com/dp/B08FKB4476\n",
            "https://www.amazon.com/dp/B09KGLRF8J\n",
            "https://www.amazon.com/dp/B095J62YQR\n"
          ]
        }
      ]
    },
    {
      "cell_type": "code",
      "source": [
        "#All of the data categories listed out\n",
        "id_data = []\n",
        "name_data = []\n",
        "price_data = []\n",
        "asin_data = []\n",
        "#reviewer_name_data = []\n",
        "title_data = []\n",
        "text_data = []\n",
        "score_data = []"
      ],
      "metadata": {
        "id": "YWIObfPTAHIO"
      },
      "execution_count": 12,
      "outputs": []
    },
    {
      "cell_type": "code",
      "source": [
        "#collects data for all categories, loops through each product from the search and collects data from reviews of that product\n",
        "def productScrape():\n",
        "  #id_number = 0\n",
        "  for i in range(len(product_review_url)):\n",
        "    count = 0\n",
        "    \n",
        "    response = reviewSearch(product_review_url[i])\n",
        "    soup = bs(response.content)\n",
        "\n",
        "    score_raw = soup.find_all('i', class_=lambda x: x and 'review-rating' in x.split() and 'cr-lightbox-review-rating' not in x.split())\n",
        "    title_raw = soup.find_all('a', {'data-hook':'review-title'})\n",
        "\n",
        "    for j in soup.find_all('span',{'data-hook':'review-body'}):\n",
        "      #id_data.append(id_number)\n",
        "      #id_number+=1\n",
        "\n",
        "      name_data.append(product_names[i])\n",
        "      price_data.append(product_price[i])\n",
        "      asin_data.append(product_asin[i])\n",
        "\n",
        "      text_data.append(j.text)\n",
        "\n",
        "      score_data.append(score_raw[count+2].text[:1])\n",
        "      title_data.append(title_raw[count].text)\n",
        "      count+=1"
      ],
      "metadata": {
        "id": "j2iq6havzgi0"
      },
      "execution_count": 13,
      "outputs": []
    },
    {
      "cell_type": "code",
      "source": [
        "productScrape()\n",
        "data = {'Name':name_data, 'Price':price_data, 'Asin #':asin_data, #'Reviewer Name':reviewer_name_data,\n",
        "        'Title':title_data, 'Text':text_data, 'Score':score_data}\n",
        "df = pd.DataFrame(data)"
      ],
      "metadata": {
        "id": "G0rz79jIqelg",
        "colab": {
          "base_uri": "https://localhost:8080/"
        },
        "outputId": "c6f9ac98-e7e5-4bdd-82f5-06770e7d69cb"
      },
      "execution_count": 14,
      "outputs": [
        {
          "output_type": "stream",
          "name": "stdout",
          "text": [
            "https://www.amazon.com/Beats-Studio3-Wireless-Headphones-Collection/product-reviews/B08528YFM3/ref=cm_cr_dp_d_show_all_btm?ie=UTF8&reviewerType=all_reviews\n",
            "https://www.amazon.com/Beats-Solo3-Wireless-Ear-Headphones/product-reviews/B07YVZ15SK/ref=cm_cr_dp_d_show_all_btm?ie=UTF8&reviewerType=all_reviews\n",
            "https://www.amazon.com/Apple-EarPods-Lightning-Connector-White/product-reviews/B01M0GB8CC/ref=cm_cr_dp_d_show_all_btm?ie=UTF8&reviewerType=all_reviews\n",
            "https://www.amazon.com/JBL-Tune-510BT-Ear-Headphones/product-reviews/B08WM3LMJF/ref=cm_cr_dp_d_show_all_btm?ie=UTF8&reviewerType=all_reviews\n",
            "https://www.amazon.com/Wireless-Bluetooth-Headphones-Foldable-Headsets/product-reviews/B08VNFD8FS/ref=cm_cr_dp_d_show_all_btm?ie=UTF8&reviewerType=all_reviews\n",
            "https://www.amazon.com/Beats-Studio-Cancelling-Earbuds-Built-Bluetooth-Headphones/product-reviews/B09WQ1FB5R/ref=cm_cr_dp_d_show_all_btm?ie=UTF8&reviewerType=all_reviews\n",
            "https://www.amazon.com/Bluetooth-Headphones-Waterproof-Earphones-Microphone/product-reviews/B0BLZ9PJVD/ref=cm_cr_dp_d_show_all_btm?ie=UTF8&reviewerType=all_reviews\n",
            "https://www.amazon.com/Sony-MDRZX110-BLK-Stereo-Headphones/product-reviews/B00NJ2M33I/ref=cm_cr_dp_d_show_all_btm?ie=UTF8&reviewerType=all_reviews\n",
            "https://www.amazon.com/JBL-Live-460NC-Ear-Cancelling/product-reviews/B08WR6YDKP/ref=cm_cr_dp_d_show_all_btm?ie=UTF8&reviewerType=all_reviews\n",
            "https://www.amazon.com/Apple-EarPods-3-5mm-Headphone-Plug/product-reviews/B06X16Z7DZ/ref=cm_cr_dp_d_show_all_btm?ie=UTF8&reviewerType=all_reviews\n",
            "https://www.amazon.com/RORSOU-R10-Headphones-Microphone-Lightweight/product-reviews/B094NC89P9/ref=cm_cr_dp_d_show_all_btm?ie=UTF8&reviewerType=all_reviews\n",
            "https://www.amazon.com/Soundcore-Cancelling-Headphones-Wireless-Bluetooth/product-reviews/B07NM3RSRQ/ref=cm_cr_dp_d_show_all_btm?ie=UTF8&reviewerType=all_reviews\n",
            "https://www.amazon.com/Skullcandy-Wireless-Cancelling-Over-Ear-Headphone/product-reviews/B08G1XKY6N/ref=cm_cr_dp_d_show_all_btm?ie=UTF8&reviewerType=all_reviews\n",
            "https://www.amazon.com/Philips-H4205-Bluetooth-Wireless-Headphones/product-reviews/B08FKB4476/ref=cm_cr_dp_d_show_all_btm?ie=UTF8&reviewerType=all_reviews\n",
            "https://www.amazon.com/Bluetooth-Headphones-Waterproof-Earphones-Cancelling/product-reviews/B09KGLRF8J/ref=cm_cr_dp_d_show_all_btm?ie=UTF8&reviewerType=all_reviews\n",
            "https://www.amazon.com/JBL-VIBE-100-TWS-Ear/product-reviews/B095J62YQR/ref=cm_cr_dp_d_show_all_btm?ie=UTF8&reviewerType=all_reviews\n"
          ]
        }
      ]
    },
    {
      "cell_type": "code",
      "source": [
        "df.head(20)"
      ],
      "metadata": {
        "id": "W3NVBli_7Gja",
        "colab": {
          "base_uri": "https://localhost:8080/",
          "height": 1000
        },
        "outputId": "b008c4cb-c89a-4dbf-f29a-34a113252bfc"
      },
      "execution_count": 15,
      "outputs": [
        {
          "output_type": "execute_result",
          "data": {
            "text/plain": [
              "                                                 Name    Price      Asin #  \\\n",
              "0   Beats Studio3 Wireless Noise Cancelling Over-E...  $349.95  B08528YFM3   \n",
              "1   Beats Studio3 Wireless Noise Cancelling Over-E...  $349.95  B08528YFM3   \n",
              "2   Beats Studio3 Wireless Noise Cancelling Over-E...  $349.95  B08528YFM3   \n",
              "3   Beats Studio3 Wireless Noise Cancelling Over-E...  $349.95  B08528YFM3   \n",
              "4   Beats Studio3 Wireless Noise Cancelling Over-E...  $349.95  B08528YFM3   \n",
              "5   Beats Studio3 Wireless Noise Cancelling Over-E...  $349.95  B08528YFM3   \n",
              "6   Beats Studio3 Wireless Noise Cancelling Over-E...  $349.95  B08528YFM3   \n",
              "7   Beats Studio3 Wireless Noise Cancelling Over-E...  $349.95  B08528YFM3   \n",
              "8   Beats Studio3 Wireless Noise Cancelling Over-E...  $349.95  B08528YFM3   \n",
              "9   Beats Studio3 Wireless Noise Cancelling Over-E...  $349.95  B08528YFM3   \n",
              "10  Beats Solo3 Wireless On-Ear Headphones - Apple...  $189.99  B07YVZ15SK   \n",
              "11  Beats Solo3 Wireless On-Ear Headphones - Apple...  $189.99  B07YVZ15SK   \n",
              "12  Beats Solo3 Wireless On-Ear Headphones - Apple...  $189.99  B07YVZ15SK   \n",
              "13  Beats Solo3 Wireless On-Ear Headphones - Apple...  $189.99  B07YVZ15SK   \n",
              "14  Beats Solo3 Wireless On-Ear Headphones - Apple...  $189.99  B07YVZ15SK   \n",
              "15  Beats Solo3 Wireless On-Ear Headphones - Apple...  $189.99  B07YVZ15SK   \n",
              "16  Beats Solo3 Wireless On-Ear Headphones - Apple...  $189.99  B07YVZ15SK   \n",
              "17  Beats Solo3 Wireless On-Ear Headphones - Apple...  $189.99  B07YVZ15SK   \n",
              "18  Beats Solo3 Wireless On-Ear Headphones - Apple...  $189.99  B07YVZ15SK   \n",
              "19  Beats Solo3 Wireless On-Ear Headphones - Apple...  $189.99  B07YVZ15SK   \n",
              "\n",
              "                                                Title  \\\n",
              "0                      \\nPlease Read Before Buying.\\n   \n",
              "1   \\nReally Beautiful and Quality Headphones, Bew...   \n",
              "2                        \\nGood but could be better\\n   \n",
              "3   \\nAMAZINING headphones better than the Solo 3 ...   \n",
              "4   \\nPerfect headphones for traveling and any noi...   \n",
              "5   \\nThey’re great, but I have a few words of adv...   \n",
              "6                                         \\nAmazing\\n   \n",
              "7                                  \\nLove Love Love\\n   \n",
              "8        \\nLong battery life and amazing headphones\\n   \n",
              "9                                    \\nNice product\\n   \n",
              "10  \\nThis is like upgrading my entire brain. SO I...   \n",
              "11                              \\nFit of Headphones\\n   \n",
              "12                             \\nJust what I needed\\n   \n",
              "13                              \\nPleasant surprise\\n   \n",
              "14                                    \\neasy to use\\n   \n",
              "15                           \\nGood for small ears!\\n   \n",
              "16                              \\nLove this product\\n   \n",
              "17                                \\nAwesome Product\\n   \n",
              "18                       \\nBreaking them in matters\\n   \n",
              "19                    \\nDreBeats are EVERYTHING!!!!\\n   \n",
              "\n",
              "                                                 Text Score  \n",
              "0   \\nMy rating falls close to a 1.5 for multiple ...     2  \n",
              "1   \\nI really like these over the head headphones...     4  \n",
              "2   \\nI got these headphones to wear them when I w...     4  \n",
              "3   \\nAMAZING headphones that perform better than ...     5  \n",
              "4   \\nThese are the perfect noise-canceling headph...     5  \n",
              "5   \\n1.) There quality and volume is amazing, but...     4  \n",
              "6   \\nthe box came it new. came with the headset, ...     5  \n",
              "7   \\nI purchased these because I had the wired ve...     5  \n",
              "8   \\nI love these headphones. The battery life is...     5  \n",
              "9   \\nThese headphones are very comfortable, sound...     5  \n",
              "10  \\nHow did I not logically know that these woul...     5  \n",
              "11  \\nThe headphones are great when it comes to so...     4  \n",
              "12  \\nMy AirPods kept falling out of my ears while...     5  \n",
              "13  \\nI have had issues with wireless earbuds fitt...     5  \n",
              "14  \\nThis is one item that I had to get to splurg...     4  \n",
              "15  \\nI heard a lot of people complain because the...     5  \n",
              "16  \\nThis is a replacement pair.  Had a pair a fe...     5  \n",
              "17  \\nGreat headphones for the price. You can adju...     5  \n",
              "18  \\nI have a love hate relationship with these. ...     5  \n",
              "19  \\nAbsolutely LOVE these headphones!! Sound qua...     5  "
            ],
            "text/html": [
              "\n",
              "  <div id=\"df-9f76c0e3-7e61-4f4f-a9ec-bd4d7e30c284\">\n",
              "    <div class=\"colab-df-container\">\n",
              "      <div>\n",
              "<style scoped>\n",
              "    .dataframe tbody tr th:only-of-type {\n",
              "        vertical-align: middle;\n",
              "    }\n",
              "\n",
              "    .dataframe tbody tr th {\n",
              "        vertical-align: top;\n",
              "    }\n",
              "\n",
              "    .dataframe thead th {\n",
              "        text-align: right;\n",
              "    }\n",
              "</style>\n",
              "<table border=\"1\" class=\"dataframe\">\n",
              "  <thead>\n",
              "    <tr style=\"text-align: right;\">\n",
              "      <th></th>\n",
              "      <th>Name</th>\n",
              "      <th>Price</th>\n",
              "      <th>Asin #</th>\n",
              "      <th>Title</th>\n",
              "      <th>Text</th>\n",
              "      <th>Score</th>\n",
              "    </tr>\n",
              "  </thead>\n",
              "  <tbody>\n",
              "    <tr>\n",
              "      <th>0</th>\n",
              "      <td>Beats Studio3 Wireless Noise Cancelling Over-E...</td>\n",
              "      <td>$349.95</td>\n",
              "      <td>B08528YFM3</td>\n",
              "      <td>\\nPlease Read Before Buying.\\n</td>\n",
              "      <td>\\nMy rating falls close to a 1.5 for multiple ...</td>\n",
              "      <td>2</td>\n",
              "    </tr>\n",
              "    <tr>\n",
              "      <th>1</th>\n",
              "      <td>Beats Studio3 Wireless Noise Cancelling Over-E...</td>\n",
              "      <td>$349.95</td>\n",
              "      <td>B08528YFM3</td>\n",
              "      <td>\\nReally Beautiful and Quality Headphones, Bew...</td>\n",
              "      <td>\\nI really like these over the head headphones...</td>\n",
              "      <td>4</td>\n",
              "    </tr>\n",
              "    <tr>\n",
              "      <th>2</th>\n",
              "      <td>Beats Studio3 Wireless Noise Cancelling Over-E...</td>\n",
              "      <td>$349.95</td>\n",
              "      <td>B08528YFM3</td>\n",
              "      <td>\\nGood but could be better\\n</td>\n",
              "      <td>\\nI got these headphones to wear them when I w...</td>\n",
              "      <td>4</td>\n",
              "    </tr>\n",
              "    <tr>\n",
              "      <th>3</th>\n",
              "      <td>Beats Studio3 Wireless Noise Cancelling Over-E...</td>\n",
              "      <td>$349.95</td>\n",
              "      <td>B08528YFM3</td>\n",
              "      <td>\\nAMAZINING headphones better than the Solo 3 ...</td>\n",
              "      <td>\\nAMAZING headphones that perform better than ...</td>\n",
              "      <td>5</td>\n",
              "    </tr>\n",
              "    <tr>\n",
              "      <th>4</th>\n",
              "      <td>Beats Studio3 Wireless Noise Cancelling Over-E...</td>\n",
              "      <td>$349.95</td>\n",
              "      <td>B08528YFM3</td>\n",
              "      <td>\\nPerfect headphones for traveling and any noi...</td>\n",
              "      <td>\\nThese are the perfect noise-canceling headph...</td>\n",
              "      <td>5</td>\n",
              "    </tr>\n",
              "    <tr>\n",
              "      <th>5</th>\n",
              "      <td>Beats Studio3 Wireless Noise Cancelling Over-E...</td>\n",
              "      <td>$349.95</td>\n",
              "      <td>B08528YFM3</td>\n",
              "      <td>\\nThey’re great, but I have a few words of adv...</td>\n",
              "      <td>\\n1.) There quality and volume is amazing, but...</td>\n",
              "      <td>4</td>\n",
              "    </tr>\n",
              "    <tr>\n",
              "      <th>6</th>\n",
              "      <td>Beats Studio3 Wireless Noise Cancelling Over-E...</td>\n",
              "      <td>$349.95</td>\n",
              "      <td>B08528YFM3</td>\n",
              "      <td>\\nAmazing\\n</td>\n",
              "      <td>\\nthe box came it new. came with the headset, ...</td>\n",
              "      <td>5</td>\n",
              "    </tr>\n",
              "    <tr>\n",
              "      <th>7</th>\n",
              "      <td>Beats Studio3 Wireless Noise Cancelling Over-E...</td>\n",
              "      <td>$349.95</td>\n",
              "      <td>B08528YFM3</td>\n",
              "      <td>\\nLove Love Love\\n</td>\n",
              "      <td>\\nI purchased these because I had the wired ve...</td>\n",
              "      <td>5</td>\n",
              "    </tr>\n",
              "    <tr>\n",
              "      <th>8</th>\n",
              "      <td>Beats Studio3 Wireless Noise Cancelling Over-E...</td>\n",
              "      <td>$349.95</td>\n",
              "      <td>B08528YFM3</td>\n",
              "      <td>\\nLong battery life and amazing headphones\\n</td>\n",
              "      <td>\\nI love these headphones. The battery life is...</td>\n",
              "      <td>5</td>\n",
              "    </tr>\n",
              "    <tr>\n",
              "      <th>9</th>\n",
              "      <td>Beats Studio3 Wireless Noise Cancelling Over-E...</td>\n",
              "      <td>$349.95</td>\n",
              "      <td>B08528YFM3</td>\n",
              "      <td>\\nNice product\\n</td>\n",
              "      <td>\\nThese headphones are very comfortable, sound...</td>\n",
              "      <td>5</td>\n",
              "    </tr>\n",
              "    <tr>\n",
              "      <th>10</th>\n",
              "      <td>Beats Solo3 Wireless On-Ear Headphones - Apple...</td>\n",
              "      <td>$189.99</td>\n",
              "      <td>B07YVZ15SK</td>\n",
              "      <td>\\nThis is like upgrading my entire brain. SO I...</td>\n",
              "      <td>\\nHow did I not logically know that these woul...</td>\n",
              "      <td>5</td>\n",
              "    </tr>\n",
              "    <tr>\n",
              "      <th>11</th>\n",
              "      <td>Beats Solo3 Wireless On-Ear Headphones - Apple...</td>\n",
              "      <td>$189.99</td>\n",
              "      <td>B07YVZ15SK</td>\n",
              "      <td>\\nFit of Headphones\\n</td>\n",
              "      <td>\\nThe headphones are great when it comes to so...</td>\n",
              "      <td>4</td>\n",
              "    </tr>\n",
              "    <tr>\n",
              "      <th>12</th>\n",
              "      <td>Beats Solo3 Wireless On-Ear Headphones - Apple...</td>\n",
              "      <td>$189.99</td>\n",
              "      <td>B07YVZ15SK</td>\n",
              "      <td>\\nJust what I needed\\n</td>\n",
              "      <td>\\nMy AirPods kept falling out of my ears while...</td>\n",
              "      <td>5</td>\n",
              "    </tr>\n",
              "    <tr>\n",
              "      <th>13</th>\n",
              "      <td>Beats Solo3 Wireless On-Ear Headphones - Apple...</td>\n",
              "      <td>$189.99</td>\n",
              "      <td>B07YVZ15SK</td>\n",
              "      <td>\\nPleasant surprise\\n</td>\n",
              "      <td>\\nI have had issues with wireless earbuds fitt...</td>\n",
              "      <td>5</td>\n",
              "    </tr>\n",
              "    <tr>\n",
              "      <th>14</th>\n",
              "      <td>Beats Solo3 Wireless On-Ear Headphones - Apple...</td>\n",
              "      <td>$189.99</td>\n",
              "      <td>B07YVZ15SK</td>\n",
              "      <td>\\neasy to use\\n</td>\n",
              "      <td>\\nThis is one item that I had to get to splurg...</td>\n",
              "      <td>4</td>\n",
              "    </tr>\n",
              "    <tr>\n",
              "      <th>15</th>\n",
              "      <td>Beats Solo3 Wireless On-Ear Headphones - Apple...</td>\n",
              "      <td>$189.99</td>\n",
              "      <td>B07YVZ15SK</td>\n",
              "      <td>\\nGood for small ears!\\n</td>\n",
              "      <td>\\nI heard a lot of people complain because the...</td>\n",
              "      <td>5</td>\n",
              "    </tr>\n",
              "    <tr>\n",
              "      <th>16</th>\n",
              "      <td>Beats Solo3 Wireless On-Ear Headphones - Apple...</td>\n",
              "      <td>$189.99</td>\n",
              "      <td>B07YVZ15SK</td>\n",
              "      <td>\\nLove this product\\n</td>\n",
              "      <td>\\nThis is a replacement pair.  Had a pair a fe...</td>\n",
              "      <td>5</td>\n",
              "    </tr>\n",
              "    <tr>\n",
              "      <th>17</th>\n",
              "      <td>Beats Solo3 Wireless On-Ear Headphones - Apple...</td>\n",
              "      <td>$189.99</td>\n",
              "      <td>B07YVZ15SK</td>\n",
              "      <td>\\nAwesome Product\\n</td>\n",
              "      <td>\\nGreat headphones for the price. You can adju...</td>\n",
              "      <td>5</td>\n",
              "    </tr>\n",
              "    <tr>\n",
              "      <th>18</th>\n",
              "      <td>Beats Solo3 Wireless On-Ear Headphones - Apple...</td>\n",
              "      <td>$189.99</td>\n",
              "      <td>B07YVZ15SK</td>\n",
              "      <td>\\nBreaking them in matters\\n</td>\n",
              "      <td>\\nI have a love hate relationship with these. ...</td>\n",
              "      <td>5</td>\n",
              "    </tr>\n",
              "    <tr>\n",
              "      <th>19</th>\n",
              "      <td>Beats Solo3 Wireless On-Ear Headphones - Apple...</td>\n",
              "      <td>$189.99</td>\n",
              "      <td>B07YVZ15SK</td>\n",
              "      <td>\\nDreBeats are EVERYTHING!!!!\\n</td>\n",
              "      <td>\\nAbsolutely LOVE these headphones!! Sound qua...</td>\n",
              "      <td>5</td>\n",
              "    </tr>\n",
              "  </tbody>\n",
              "</table>\n",
              "</div>\n",
              "      <button class=\"colab-df-convert\" onclick=\"convertToInteractive('df-9f76c0e3-7e61-4f4f-a9ec-bd4d7e30c284')\"\n",
              "              title=\"Convert this dataframe to an interactive table.\"\n",
              "              style=\"display:none;\">\n",
              "        \n",
              "  <svg xmlns=\"http://www.w3.org/2000/svg\" height=\"24px\"viewBox=\"0 0 24 24\"\n",
              "       width=\"24px\">\n",
              "    <path d=\"M0 0h24v24H0V0z\" fill=\"none\"/>\n",
              "    <path d=\"M18.56 5.44l.94 2.06.94-2.06 2.06-.94-2.06-.94-.94-2.06-.94 2.06-2.06.94zm-11 1L8.5 8.5l.94-2.06 2.06-.94-2.06-.94L8.5 2.5l-.94 2.06-2.06.94zm10 10l.94 2.06.94-2.06 2.06-.94-2.06-.94-.94-2.06-.94 2.06-2.06.94z\"/><path d=\"M17.41 7.96l-1.37-1.37c-.4-.4-.92-.59-1.43-.59-.52 0-1.04.2-1.43.59L10.3 9.45l-7.72 7.72c-.78.78-.78 2.05 0 2.83L4 21.41c.39.39.9.59 1.41.59.51 0 1.02-.2 1.41-.59l7.78-7.78 2.81-2.81c.8-.78.8-2.07 0-2.86zM5.41 20L4 18.59l7.72-7.72 1.47 1.35L5.41 20z\"/>\n",
              "  </svg>\n",
              "      </button>\n",
              "      \n",
              "  <style>\n",
              "    .colab-df-container {\n",
              "      display:flex;\n",
              "      flex-wrap:wrap;\n",
              "      gap: 12px;\n",
              "    }\n",
              "\n",
              "    .colab-df-convert {\n",
              "      background-color: #E8F0FE;\n",
              "      border: none;\n",
              "      border-radius: 50%;\n",
              "      cursor: pointer;\n",
              "      display: none;\n",
              "      fill: #1967D2;\n",
              "      height: 32px;\n",
              "      padding: 0 0 0 0;\n",
              "      width: 32px;\n",
              "    }\n",
              "\n",
              "    .colab-df-convert:hover {\n",
              "      background-color: #E2EBFA;\n",
              "      box-shadow: 0px 1px 2px rgba(60, 64, 67, 0.3), 0px 1px 3px 1px rgba(60, 64, 67, 0.15);\n",
              "      fill: #174EA6;\n",
              "    }\n",
              "\n",
              "    [theme=dark] .colab-df-convert {\n",
              "      background-color: #3B4455;\n",
              "      fill: #D2E3FC;\n",
              "    }\n",
              "\n",
              "    [theme=dark] .colab-df-convert:hover {\n",
              "      background-color: #434B5C;\n",
              "      box-shadow: 0px 1px 3px 1px rgba(0, 0, 0, 0.15);\n",
              "      filter: drop-shadow(0px 1px 2px rgba(0, 0, 0, 0.3));\n",
              "      fill: #FFFFFF;\n",
              "    }\n",
              "  </style>\n",
              "\n",
              "      <script>\n",
              "        const buttonEl =\n",
              "          document.querySelector('#df-9f76c0e3-7e61-4f4f-a9ec-bd4d7e30c284 button.colab-df-convert');\n",
              "        buttonEl.style.display =\n",
              "          google.colab.kernel.accessAllowed ? 'block' : 'none';\n",
              "\n",
              "        async function convertToInteractive(key) {\n",
              "          const element = document.querySelector('#df-9f76c0e3-7e61-4f4f-a9ec-bd4d7e30c284');\n",
              "          const dataTable =\n",
              "            await google.colab.kernel.invokeFunction('convertToInteractive',\n",
              "                                                     [key], {});\n",
              "          if (!dataTable) return;\n",
              "\n",
              "          const docLinkHtml = 'Like what you see? Visit the ' +\n",
              "            '<a target=\"_blank\" href=https://colab.research.google.com/notebooks/data_table.ipynb>data table notebook</a>'\n",
              "            + ' to learn more about interactive tables.';\n",
              "          element.innerHTML = '';\n",
              "          dataTable['output_type'] = 'display_data';\n",
              "          await google.colab.output.renderOutput(dataTable, element);\n",
              "          const docLink = document.createElement('div');\n",
              "          docLink.innerHTML = docLinkHtml;\n",
              "          element.appendChild(docLink);\n",
              "        }\n",
              "      </script>\n",
              "    </div>\n",
              "  </div>\n",
              "  "
            ]
          },
          "metadata": {},
          "execution_count": 15
        }
      ]
    },
    {
      "cell_type": "code",
      "source": [
        "df.sample(5)"
      ],
      "metadata": {
        "id": "f2fQ7iLk7Hs4",
        "colab": {
          "base_uri": "https://localhost:8080/",
          "height": 320
        },
        "outputId": "e41473a6-d11c-42f1-9f09-bb6181c93786"
      },
      "execution_count": 16,
      "outputs": [
        {
          "output_type": "execute_result",
          "data": {
            "text/plain": [
              "                                                  Name   Price      Asin #  \\\n",
              "108  Apple EarPods Headphones with 3.5mm Plug. Micr...  $21.99  B094NC89P9   \n",
              "126  Soundcore Anker Life Q20 Hybrid Active Noise C...  $29.99  B08G1XKY6N   \n",
              "158  Boean Bluetooth Headphones, Running Wireless E...  $12.99  B095J62YQR   \n",
              "91   JBL Live 460NC - Wireless On-Ear Noise Cancell...  $18.69  B06X16Z7DZ   \n",
              "72   Bluetooth Headphones V5.3 Wireless Earbuds 50 ...  $29.95  B00NJ2M33I   \n",
              "\n",
              "                                               Title  \\\n",
              "108             \\nPretty decent.  Lasted 8 months.\\n   \n",
              "126                   \\nI prefer the older version\\n   \n",
              "158                                     \\nAwesome!\\n   \n",
              "91                                 \\nFast delivery\\n   \n",
              "72   \\nThe only headphones that don't hurt my ears\\n   \n",
              "\n",
              "                                                  Text Score  \n",
              "108  \\nUsed these to sleep with while listening to ...     5  \n",
              "126  \\nThese are a downgrade from SkullCandy Venues...     4  \n",
              "158  \\nI am really surprised at how amazing these e...     5  \n",
              "91   \\nI wanted a pair of these headphones because ...     5  \n",
              "72   \\nI've tried many headphones. These are the on...     5  "
            ],
            "text/html": [
              "\n",
              "  <div id=\"df-ae7aed19-4329-4c2b-ac53-e77d8bd8dbe5\">\n",
              "    <div class=\"colab-df-container\">\n",
              "      <div>\n",
              "<style scoped>\n",
              "    .dataframe tbody tr th:only-of-type {\n",
              "        vertical-align: middle;\n",
              "    }\n",
              "\n",
              "    .dataframe tbody tr th {\n",
              "        vertical-align: top;\n",
              "    }\n",
              "\n",
              "    .dataframe thead th {\n",
              "        text-align: right;\n",
              "    }\n",
              "</style>\n",
              "<table border=\"1\" class=\"dataframe\">\n",
              "  <thead>\n",
              "    <tr style=\"text-align: right;\">\n",
              "      <th></th>\n",
              "      <th>Name</th>\n",
              "      <th>Price</th>\n",
              "      <th>Asin #</th>\n",
              "      <th>Title</th>\n",
              "      <th>Text</th>\n",
              "      <th>Score</th>\n",
              "    </tr>\n",
              "  </thead>\n",
              "  <tbody>\n",
              "    <tr>\n",
              "      <th>108</th>\n",
              "      <td>Apple EarPods Headphones with 3.5mm Plug. Micr...</td>\n",
              "      <td>$21.99</td>\n",
              "      <td>B094NC89P9</td>\n",
              "      <td>\\nPretty decent.  Lasted 8 months.\\n</td>\n",
              "      <td>\\nUsed these to sleep with while listening to ...</td>\n",
              "      <td>5</td>\n",
              "    </tr>\n",
              "    <tr>\n",
              "      <th>126</th>\n",
              "      <td>Soundcore Anker Life Q20 Hybrid Active Noise C...</td>\n",
              "      <td>$29.99</td>\n",
              "      <td>B08G1XKY6N</td>\n",
              "      <td>\\nI prefer the older version\\n</td>\n",
              "      <td>\\nThese are a downgrade from SkullCandy Venues...</td>\n",
              "      <td>4</td>\n",
              "    </tr>\n",
              "    <tr>\n",
              "      <th>158</th>\n",
              "      <td>Boean Bluetooth Headphones, Running Wireless E...</td>\n",
              "      <td>$12.99</td>\n",
              "      <td>B095J62YQR</td>\n",
              "      <td>\\nAwesome!\\n</td>\n",
              "      <td>\\nI am really surprised at how amazing these e...</td>\n",
              "      <td>5</td>\n",
              "    </tr>\n",
              "    <tr>\n",
              "      <th>91</th>\n",
              "      <td>JBL Live 460NC - Wireless On-Ear Noise Cancell...</td>\n",
              "      <td>$18.69</td>\n",
              "      <td>B06X16Z7DZ</td>\n",
              "      <td>\\nFast delivery\\n</td>\n",
              "      <td>\\nI wanted a pair of these headphones because ...</td>\n",
              "      <td>5</td>\n",
              "    </tr>\n",
              "    <tr>\n",
              "      <th>72</th>\n",
              "      <td>Bluetooth Headphones V5.3 Wireless Earbuds 50 ...</td>\n",
              "      <td>$29.95</td>\n",
              "      <td>B00NJ2M33I</td>\n",
              "      <td>\\nThe only headphones that don't hurt my ears\\n</td>\n",
              "      <td>\\nI've tried many headphones. These are the on...</td>\n",
              "      <td>5</td>\n",
              "    </tr>\n",
              "  </tbody>\n",
              "</table>\n",
              "</div>\n",
              "      <button class=\"colab-df-convert\" onclick=\"convertToInteractive('df-ae7aed19-4329-4c2b-ac53-e77d8bd8dbe5')\"\n",
              "              title=\"Convert this dataframe to an interactive table.\"\n",
              "              style=\"display:none;\">\n",
              "        \n",
              "  <svg xmlns=\"http://www.w3.org/2000/svg\" height=\"24px\"viewBox=\"0 0 24 24\"\n",
              "       width=\"24px\">\n",
              "    <path d=\"M0 0h24v24H0V0z\" fill=\"none\"/>\n",
              "    <path d=\"M18.56 5.44l.94 2.06.94-2.06 2.06-.94-2.06-.94-.94-2.06-.94 2.06-2.06.94zm-11 1L8.5 8.5l.94-2.06 2.06-.94-2.06-.94L8.5 2.5l-.94 2.06-2.06.94zm10 10l.94 2.06.94-2.06 2.06-.94-2.06-.94-.94-2.06-.94 2.06-2.06.94z\"/><path d=\"M17.41 7.96l-1.37-1.37c-.4-.4-.92-.59-1.43-.59-.52 0-1.04.2-1.43.59L10.3 9.45l-7.72 7.72c-.78.78-.78 2.05 0 2.83L4 21.41c.39.39.9.59 1.41.59.51 0 1.02-.2 1.41-.59l7.78-7.78 2.81-2.81c.8-.78.8-2.07 0-2.86zM5.41 20L4 18.59l7.72-7.72 1.47 1.35L5.41 20z\"/>\n",
              "  </svg>\n",
              "      </button>\n",
              "      \n",
              "  <style>\n",
              "    .colab-df-container {\n",
              "      display:flex;\n",
              "      flex-wrap:wrap;\n",
              "      gap: 12px;\n",
              "    }\n",
              "\n",
              "    .colab-df-convert {\n",
              "      background-color: #E8F0FE;\n",
              "      border: none;\n",
              "      border-radius: 50%;\n",
              "      cursor: pointer;\n",
              "      display: none;\n",
              "      fill: #1967D2;\n",
              "      height: 32px;\n",
              "      padding: 0 0 0 0;\n",
              "      width: 32px;\n",
              "    }\n",
              "\n",
              "    .colab-df-convert:hover {\n",
              "      background-color: #E2EBFA;\n",
              "      box-shadow: 0px 1px 2px rgba(60, 64, 67, 0.3), 0px 1px 3px 1px rgba(60, 64, 67, 0.15);\n",
              "      fill: #174EA6;\n",
              "    }\n",
              "\n",
              "    [theme=dark] .colab-df-convert {\n",
              "      background-color: #3B4455;\n",
              "      fill: #D2E3FC;\n",
              "    }\n",
              "\n",
              "    [theme=dark] .colab-df-convert:hover {\n",
              "      background-color: #434B5C;\n",
              "      box-shadow: 0px 1px 3px 1px rgba(0, 0, 0, 0.15);\n",
              "      filter: drop-shadow(0px 1px 2px rgba(0, 0, 0, 0.3));\n",
              "      fill: #FFFFFF;\n",
              "    }\n",
              "  </style>\n",
              "\n",
              "      <script>\n",
              "        const buttonEl =\n",
              "          document.querySelector('#df-ae7aed19-4329-4c2b-ac53-e77d8bd8dbe5 button.colab-df-convert');\n",
              "        buttonEl.style.display =\n",
              "          google.colab.kernel.accessAllowed ? 'block' : 'none';\n",
              "\n",
              "        async function convertToInteractive(key) {\n",
              "          const element = document.querySelector('#df-ae7aed19-4329-4c2b-ac53-e77d8bd8dbe5');\n",
              "          const dataTable =\n",
              "            await google.colab.kernel.invokeFunction('convertToInteractive',\n",
              "                                                     [key], {});\n",
              "          if (!dataTable) return;\n",
              "\n",
              "          const docLinkHtml = 'Like what you see? Visit the ' +\n",
              "            '<a target=\"_blank\" href=https://colab.research.google.com/notebooks/data_table.ipynb>data table notebook</a>'\n",
              "            + ' to learn more about interactive tables.';\n",
              "          element.innerHTML = '';\n",
              "          dataTable['output_type'] = 'display_data';\n",
              "          await google.colab.output.renderOutput(dataTable, element);\n",
              "          const docLink = document.createElement('div');\n",
              "          docLink.innerHTML = docLinkHtml;\n",
              "          element.appendChild(docLink);\n",
              "        }\n",
              "      </script>\n",
              "    </div>\n",
              "  </div>\n",
              "  "
            ]
          },
          "metadata": {},
          "execution_count": 16
        }
      ]
    },
    {
      "cell_type": "code",
      "source": [
        "#Saves the dataframe as a csv file\n",
        "df.to_csv('amazon_data.csv', index=True)"
      ],
      "metadata": {
        "id": "k6JyPY2Z2dkN"
      },
      "execution_count": 17,
      "outputs": []
    },
    {
      "cell_type": "code",
      "source": [
        "#Downloads csv file to local machine\n",
        "from google.colab import files\n",
        "files.download('amazon_data.csv')"
      ],
      "metadata": {
        "colab": {
          "base_uri": "https://localhost:8080/",
          "height": 17
        },
        "id": "ZFJrkkcv3kUJ",
        "outputId": "873fa724-f1b1-4187-d390-9007728c2edf"
      },
      "execution_count": 18,
      "outputs": [
        {
          "output_type": "display_data",
          "data": {
            "text/plain": [
              "<IPython.core.display.Javascript object>"
            ],
            "application/javascript": [
              "\n",
              "    async function download(id, filename, size) {\n",
              "      if (!google.colab.kernel.accessAllowed) {\n",
              "        return;\n",
              "      }\n",
              "      const div = document.createElement('div');\n",
              "      const label = document.createElement('label');\n",
              "      label.textContent = `Downloading \"${filename}\": `;\n",
              "      div.appendChild(label);\n",
              "      const progress = document.createElement('progress');\n",
              "      progress.max = size;\n",
              "      div.appendChild(progress);\n",
              "      document.body.appendChild(div);\n",
              "\n",
              "      const buffers = [];\n",
              "      let downloaded = 0;\n",
              "\n",
              "      const channel = await google.colab.kernel.comms.open(id);\n",
              "      // Send a message to notify the kernel that we're ready.\n",
              "      channel.send({})\n",
              "\n",
              "      for await (const message of channel.messages) {\n",
              "        // Send a message to notify the kernel that we're ready.\n",
              "        channel.send({})\n",
              "        if (message.buffers) {\n",
              "          for (const buffer of message.buffers) {\n",
              "            buffers.push(buffer);\n",
              "            downloaded += buffer.byteLength;\n",
              "            progress.value = downloaded;\n",
              "          }\n",
              "        }\n",
              "      }\n",
              "      const blob = new Blob(buffers, {type: 'application/binary'});\n",
              "      const a = document.createElement('a');\n",
              "      a.href = window.URL.createObjectURL(blob);\n",
              "      a.download = filename;\n",
              "      div.appendChild(a);\n",
              "      a.click();\n",
              "      div.remove();\n",
              "    }\n",
              "  "
            ]
          },
          "metadata": {}
        },
        {
          "output_type": "display_data",
          "data": {
            "text/plain": [
              "<IPython.core.display.Javascript object>"
            ],
            "application/javascript": [
              "download(\"download_34a285ea-e79d-43cc-8d0e-995058d500c0\", \"amazon_data.csv\", 200025)"
            ]
          },
          "metadata": {}
        }
      ]
    }
  ]
}