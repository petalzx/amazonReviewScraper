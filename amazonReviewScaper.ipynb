{
  "nbformat": 4,
  "nbformat_minor": 0,
  "metadata": {
    "colab": {
      "provenance": [],
      "authorship_tag": "ABX9TyPQ+i8Rtz7kaOEPFtLnapJm",
      "include_colab_link": true
    },
    "kernelspec": {
      "name": "python3",
      "display_name": "Python 3"
    },
    "language_info": {
      "name": "python"
    }
  },
  "cells": [
    {
      "cell_type": "markdown",
      "metadata": {
        "id": "view-in-github",
        "colab_type": "text"
      },
      "source": [
        "<a href=\"https://colab.research.google.com/github/petalzx/amazonReviewScraper/blob/main/amazonReviewScaper.ipynb\" target=\"_parent\"><img src=\"https://colab.research.google.com/assets/colab-badge.svg\" alt=\"Open In Colab\"/></a>"
      ]
    },
    {
      "cell_type": "markdown",
      "source": [
        "Amazon Review Web Scaper"
      ],
      "metadata": {
        "id": "LqBeC7Ke58y0"
      }
    },
    {
      "cell_type": "code",
      "execution_count": null,
      "metadata": {
        "id": "zyxLvRn4bU3Q"
      },
      "outputs": [],
      "source": [
        "from bs4 import BeautifulSoup as bs\n",
        "import requests\n",
        "import pandas as pd"
      ]
    },
    {
      "cell_type": "code",
      "source": [
        "#Modify the search_query in order to create data set from a different search\n",
        "search_query = 'headphones'\n",
        "base_url = 'https://www.amazon.com/s?k='"
      ],
      "metadata": {
        "id": "p-sDl7aR6KEU"
      },
      "execution_count": null,
      "outputs": []
    },
    {
      "cell_type": "code",
      "source": [
        "url = base_url + search_query\n",
        "header = {'User-Agent': 'Mozilla/5.0 (Windows NT 10.0; Win64; x64) AppleWebKit/537.36 (KHTML, like Gecko) Chrome/108.0.0.0 Safari/537.36', \n",
        "          'referer':'https://www.amazon.com/s?k=headphones&crid=3RIA528VORR9E&sprefix=headphones%2Caps%2C107&ref=nb_sb_noss_2'}"
      ],
      "metadata": {
        "id": "qo8mZ94zGmDw"
      },
      "execution_count": null,
      "outputs": []
    },
    {
      "cell_type": "code",
      "source": [
        "#generating search response\n",
        "response = requests.get(url, headers=header)\n",
        "response.status_code"
      ],
      "metadata": {
        "id": "-wD4ZyY7LThA",
        "colab": {
          "base_uri": "https://localhost:8080/"
        },
        "outputId": "db2f010a-94ff-48fb-8d93-5a49de40d551"
      },
      "execution_count": null,
      "outputs": [
        {
          "output_type": "execute_result",
          "data": {
            "text/plain": [
              "200"
            ]
          },
          "metadata": {},
          "execution_count": 69
        }
      ]
    },
    {
      "cell_type": "code",
      "source": [
        "#scape Amazon reviews of products that pop up from a specific search_query\n",
        "def search(search_query):\n",
        "  url = 'https://www.amazon.com/s?k=' + search_query\n",
        "  print(url)\n",
        "  response = requests.get(url, headers=header)\n",
        "  if response.status_code==200:\n",
        "    return response\n",
        "  return \"Error\""
      ],
      "metadata": {
        "id": "F88JtYDnSxvD"
      },
      "execution_count": null,
      "outputs": []
    },
    {
      "cell_type": "code",
      "source": [
        "#scape Amazon reviews of individual product pages using asin indentification number\n",
        "def asinSearch(asin):\n",
        "  url = 'https://www.amazon.com/dp/' + asin\n",
        "  print(url)\n",
        "  response = requests.get(url, headers=header)\n",
        "  if response.status_code==200:\n",
        "    return response\n",
        "  return \"Error\""
      ],
      "metadata": {
        "id": "kWKshg5XUAbO"
      },
      "execution_count": null,
      "outputs": []
    },
    {
      "cell_type": "code",
      "source": [
        "#brings us to \"see all reviews\" page\n",
        "def reviewSearch(review_url):\n",
        "  url = \"https://www.amazon.com\" + review_url\n",
        "  print(url)\n",
        "  response = requests.get(url, headers=header)\n",
        "  if response.status_code==200:\n",
        "    return response\n",
        "  return \"Error\""
      ],
      "metadata": {
        "id": "gL7qHdHLV85_"
      },
      "execution_count": null,
      "outputs": []
    },
    {
      "cell_type": "code",
      "source": [
        "product_names = []\n",
        "response = search('headphones')\n",
        "soup = bs(response.content)\n",
        "for i in soup.findAll('span', {'class':'a-size-medium a-color-base a-text-normal'}):\n",
        "  product_names.append(i.text)"
      ],
      "metadata": {
        "id": "FLQMs9P45VZr",
        "colab": {
          "base_uri": "https://localhost:8080/"
        },
        "outputId": "35390dda-6a6c-411a-a581-7fea9307aed6"
      },
      "execution_count": null,
      "outputs": [
        {
          "output_type": "stream",
          "name": "stdout",
          "text": [
            "https://www.amazon.com/s?k=headphones\n"
          ]
        }
      ]
    },
    {
      "cell_type": "code",
      "source": [
        "product_price = []\n",
        "for i in soup.findAll('span', {'class':'a-offscreen'}):\n",
        "  product_price.append(i.text)"
      ],
      "metadata": {
        "id": "6VcAgR5C78Ol"
      },
      "execution_count": null,
      "outputs": []
    },
    {
      "cell_type": "code",
      "source": [
        "product_asin = []\n",
        "for i in soup.findAll('div',{'class':'sg-col-20-of-24 s-result-item s-asin sg-col-0-of-12 sg-col-16-of-20 sg-col s-widget-spacing-small sg-col-12-of-16'}):\n",
        "  product_asin.append(i['data-asin'])"
      ],
      "metadata": {
        "id": "4FSv3oPy8sTc"
      },
      "execution_count": null,
      "outputs": []
    },
    {
      "cell_type": "code",
      "source": [
        "product_review_url = []\n",
        "for i in range(len(product_asin)):\n",
        "  response = asinSearch(product_asin[i])\n",
        "  soup = bs(response.content)\n",
        "  product_review_url.append(soup.find('a',{'class':'a-link-emphasis a-text-bold'}).get('href'))"
      ],
      "metadata": {
        "id": "5M0OgusW03wt",
        "colab": {
          "base_uri": "https://localhost:8080/"
        },
        "outputId": "b95874bd-4f67-4459-94c9-4472d478e311"
      },
      "execution_count": null,
      "outputs": [
        {
          "output_type": "stream",
          "name": "stdout",
          "text": [
            "https://www.amazon.com/dp/B07YVYZ8T5\n",
            "https://www.amazon.com/dp/B08528YFM3\n",
            "https://www.amazon.com/dp/B00NJ2M33I\n",
            "https://www.amazon.com/dp/B01M0GB8CC\n",
            "https://www.amazon.com/dp/B094NC89P9\n",
            "https://www.amazon.com/dp/B08VNFD8FS\n",
            "https://www.amazon.com/dp/B0BLZ9PJVD\n",
            "https://www.amazon.com/dp/B07NM3RSRQ\n",
            "https://www.amazon.com/dp/B083S6Q8VK\n",
            "https://www.amazon.com/dp/B095J62YQR\n",
            "https://www.amazon.com/dp/B096SSCV5K\n",
            "https://www.amazon.com/dp/B08WR6YDKP\n",
            "https://www.amazon.com/dp/B09KGLRF8J\n",
            "https://www.amazon.com/dp/B08G1XKY6N\n",
            "https://www.amazon.com/dp/B09LYF2ST7\n",
            "https://www.amazon.com/dp/B098FKXT8L\n"
          ]
        }
      ]
    },
    {
      "cell_type": "code",
      "source": [
        "#All of the data categories listed out\n",
        "id_data = []\n",
        "name_data = []\n",
        "price_data = []\n",
        "asin_data = []\n",
        "#reviewer_name_data = []\n",
        "title_data = []\n",
        "text_data = []\n",
        "score_data = []"
      ],
      "metadata": {
        "id": "YWIObfPTAHIO"
      },
      "execution_count": null,
      "outputs": []
    },
    {
      "cell_type": "code",
      "source": [
        "#collects data for all categories, loops through each product from the search and collects data from reviews of that product\n",
        "def productScrape():\n",
        "  #id_number = 0\n",
        "  for i in range(len(product_review_url)):\n",
        "    count = 0\n",
        "    \n",
        "    response = reviewSearch(product_review_url[i])\n",
        "    soup = bs(response.content)\n",
        "\n",
        "    score_raw = soup.find_all('i', class_=lambda x: x and 'review-rating' in x.split() and 'cr-lightbox-review-rating' not in x.split())\n",
        "    title_raw = soup.find_all('a', {'data-hook':'review-title'})\n",
        "\n",
        "    for j in soup.find_all('span',{'data-hook':'review-body'}):\n",
        "      #id_data.append(id_number)\n",
        "      #id_number+=1\n",
        "\n",
        "      name_data.append(product_names[i])\n",
        "      price_data.append(product_price[i])\n",
        "      asin_data.append(product_asin[i])\n",
        "\n",
        "      text_data.append(j.text)\n",
        "\n",
        "      score_data.append(score_raw[count+2].text[:1])\n",
        "      title_data.append(title_raw[count].text)\n",
        "      count+=1"
      ],
      "metadata": {
        "id": "j2iq6havzgi0"
      },
      "execution_count": null,
      "outputs": []
    },
    {
      "cell_type": "code",
      "source": [
        "productScrape()\n",
        "data = {'Name':name_data, 'Price':price_data, 'Asin #':asin_data, #'Reviewer Name':reviewer_name_data,\n",
        "        'Title':title_data, 'Text':text_data, 'Score':score_data}\n",
        "df = pd.DataFrame(data)"
      ],
      "metadata": {
        "id": "G0rz79jIqelg",
        "colab": {
          "base_uri": "https://localhost:8080/"
        },
        "outputId": "d772331d-97c2-4725-d814-0ad4ca85ed26"
      },
      "execution_count": null,
      "outputs": [
        {
          "output_type": "stream",
          "name": "stdout",
          "text": [
            "https://www.amazon.com/Beats-Solo3-Wireless-Ear-Headphones/product-reviews/B07YVYZ8T5/ref=cm_cr_dp_d_show_all_btm?ie=UTF8&reviewerType=all_reviews\n",
            "https://www.amazon.com/Beats-Studio3-Wireless-Headphones-Collection/product-reviews/B08528YFM3/ref=cm_cr_dp_d_show_all_btm?ie=UTF8&reviewerType=all_reviews\n",
            "https://www.amazon.com/Sony-MDRZX110-BLK-Stereo-Headphones/product-reviews/B00NJ2M33I/ref=cm_cr_dp_d_show_all_btm?ie=UTF8&reviewerType=all_reviews\n",
            "https://www.amazon.com/Apple-EarPods-Lightning-Connector-White/product-reviews/B01M0GB8CC/ref=cm_cr_dp_d_show_all_btm?ie=UTF8&reviewerType=all_reviews\n",
            "https://www.amazon.com/RORSOU-R10-Headphones-Microphone-Lightweight/product-reviews/B094NC89P9/ref=cm_cr_dp_d_show_all_btm?ie=UTF8&reviewerType=all_reviews\n",
            "https://www.amazon.com/Wireless-Bluetooth-Headphones-Foldable-Headsets/product-reviews/B08VNFD8FS/ref=cm_cr_dp_d_show_all_btm?ie=UTF8&reviewerType=all_reviews\n",
            "https://www.amazon.com/Bluetooth-Headphones-Waterproof-Earphones-Microphone/product-reviews/B0BLZ9PJVD/ref=cm_cr_dp_d_show_all_btm?ie=UTF8&reviewerType=all_reviews\n",
            "https://www.amazon.com/Soundcore-Cancelling-Headphones-Wireless-Bluetooth/product-reviews/B07NM3RSRQ/ref=cm_cr_dp_d_show_all_btm?ie=UTF8&reviewerType=all_reviews\n",
            "https://www.amazon.com/Cancelling-Headphones-Lightweight-Srhythm-Bluetooth/product-reviews/B083S6Q8VK/ref=cm_cr_dp_d_show_all_btm?ie=UTF8&reviewerType=all_reviews\n",
            "https://www.amazon.com/JBL-VIBE-100-TWS-Ear/product-reviews/B095J62YQR/ref=cm_cr_dp_d_show_all_btm?ie=UTF8&reviewerType=all_reviews\n",
            "https://www.amazon.com/Beats-Studio-Cancelling-Earbuds-Built-Bluetooth-Headphones/product-reviews/B096SSCV5K/ref=cm_cr_dp_d_show_all_btm?ie=UTF8&reviewerType=all_reviews\n",
            "https://www.amazon.com/JBL-Live-460NC-Ear-Cancelling/product-reviews/B08WR6YDKP/ref=cm_cr_dp_d_show_all_btm?ie=UTF8&reviewerType=all_reviews\n",
            "https://www.amazon.com/Bluetooth-Headphones-Waterproof-Earphones-Cancelling/product-reviews/B09KGLRF8J/ref=cm_cr_dp_d_show_all_btm?ie=UTF8&reviewerType=all_reviews\n",
            "https://www.amazon.com/Skullcandy-Wireless-Cancelling-Over-Ear-Headphone/product-reviews/B08G1XKY6N/ref=cm_cr_dp_d_show_all_btm?ie=UTF8&reviewerType=all_reviews\n",
            "https://www.amazon.com/BERIBES-Bluetooth-Headphones-Microphone-Lightweight/product-reviews/B09LYF2ST7/ref=cm_cr_dp_d_show_all_btm?ie=UTF8&reviewerType=all_reviews\n",
            "https://www.amazon.com/Bose-QuietComfort-45-Bluetooth-Canceling-Headphones/product-reviews/B098FKXT8L/ref=cm_cr_dp_d_show_all_btm?ie=UTF8&reviewerType=all_reviews\n"
          ]
        }
      ]
    },
    {
      "cell_type": "code",
      "source": [
        "df.head(20)"
      ],
      "metadata": {
        "id": "W3NVBli_7Gja",
        "colab": {
          "base_uri": "https://localhost:8080/",
          "height": 1000
        },
        "outputId": "b0af9dd6-82ad-41b8-e3be-0854a1a408c6"
      },
      "execution_count": null,
      "outputs": [
        {
          "output_type": "execute_result",
          "data": {
            "text/plain": [
              "                                                 Name    Price      Asin #  \\\n",
              "0   Beats Solo3 Wireless On-Ear Headphones - Apple...  $131.39  B07YVYZ8T5   \n",
              "1   Beats Solo3 Wireless On-Ear Headphones - Apple...  $131.39  B07YVYZ8T5   \n",
              "2   Beats Solo3 Wireless On-Ear Headphones - Apple...  $131.39  B07YVYZ8T5   \n",
              "3   Beats Solo3 Wireless On-Ear Headphones - Apple...  $131.39  B07YVYZ8T5   \n",
              "4   Beats Solo3 Wireless On-Ear Headphones - Apple...  $131.39  B07YVYZ8T5   \n",
              "5   Beats Solo3 Wireless On-Ear Headphones - Apple...  $131.39  B07YVYZ8T5   \n",
              "6   Beats Solo3 Wireless On-Ear Headphones - Apple...  $131.39  B07YVYZ8T5   \n",
              "7   Beats Solo3 Wireless On-Ear Headphones - Apple...  $131.39  B07YVYZ8T5   \n",
              "8   Beats Solo3 Wireless On-Ear Headphones - Apple...  $131.39  B07YVYZ8T5   \n",
              "9   Beats Solo3 Wireless On-Ear Headphones - Apple...  $131.39  B07YVYZ8T5   \n",
              "10  Beats Studio3 Wireless Noise Cancelling Over-E...  $199.95  B08528YFM3   \n",
              "11  Beats Studio3 Wireless Noise Cancelling Over-E...  $199.95  B08528YFM3   \n",
              "12  Beats Studio3 Wireless Noise Cancelling Over-E...  $199.95  B08528YFM3   \n",
              "13  Beats Studio3 Wireless Noise Cancelling Over-E...  $199.95  B08528YFM3   \n",
              "14  Beats Studio3 Wireless Noise Cancelling Over-E...  $199.95  B08528YFM3   \n",
              "15  Beats Studio3 Wireless Noise Cancelling Over-E...  $199.95  B08528YFM3   \n",
              "16  Beats Studio3 Wireless Noise Cancelling Over-E...  $199.95  B08528YFM3   \n",
              "17  Beats Studio3 Wireless Noise Cancelling Over-E...  $199.95  B08528YFM3   \n",
              "18  Beats Studio3 Wireless Noise Cancelling Over-E...  $199.95  B08528YFM3   \n",
              "19  Beats Studio3 Wireless Noise Cancelling Over-E...  $199.95  B08528YFM3   \n",
              "\n",
              "                                                Title  \\\n",
              "0   \\nThis is like upgrading my entire brain. SO I...   \n",
              "1                               \\nFit of Headphones\\n   \n",
              "2                              \\nJust what I needed\\n   \n",
              "3                               \\nPleasant surprise\\n   \n",
              "4                                     \\neasy to use\\n   \n",
              "5                            \\nGood for small ears!\\n   \n",
              "6                               \\nLove this product\\n   \n",
              "7                                 \\nAwesome Product\\n   \n",
              "8                        \\nBreaking them in matters\\n   \n",
              "9                     \\nDreBeats are EVERYTHING!!!!\\n   \n",
              "10                     \\nPlease Read Before Buying.\\n   \n",
              "11  \\nReally Beautiful and Quality Headphones, Bew...   \n",
              "12                       \\nGood but could be better\\n   \n",
              "13  \\nAMAZINING headphones better than the Solo 3 ...   \n",
              "14  \\nPerfect headphones for traveling and any noi...   \n",
              "15  \\nThey’re great, but I have a few words of adv...   \n",
              "16                                        \\nAmazing\\n   \n",
              "17                                 \\nLove Love Love\\n   \n",
              "18       \\nLong battery life and amazing headphones\\n   \n",
              "19                                   \\nNice product\\n   \n",
              "\n",
              "                                                 Text Score  \n",
              "0   \\nHow did I not logically know that these woul...     5  \n",
              "1   \\nThe headphones are great when it comes to so...     4  \n",
              "2   \\nMy AirPods kept falling out of my ears while...     5  \n",
              "3   \\nI have had issues with wireless earbuds fitt...     5  \n",
              "4   \\nThis is one item that I had to get to splurg...     4  \n",
              "5   \\nI heard a lot of people complain because the...     5  \n",
              "6   \\nThis is a replacement pair.  Had a pair a fe...     5  \n",
              "7   \\nGreat headphones for the price. You can adju...     5  \n",
              "8   \\nI have a love hate relationship with these. ...     5  \n",
              "9   \\nAbsolutely LOVE these headphones!! Sound qua...     5  \n",
              "10  \\nMy rating falls close to a 1.5 for multiple ...     2  \n",
              "11  \\nI really like these over the head headphones...     4  \n",
              "12  \\nI got these headphones to wear them when I w...     4  \n",
              "13  \\nAMAZING headphones that perform better than ...     5  \n",
              "14  \\nThese are the perfect noise-canceling headph...     5  \n",
              "15  \\n1.) There quality and volume is amazing, but...     4  \n",
              "16  \\nthe box came it new. came with the headset, ...     5  \n",
              "17  \\nI purchased these because I had the wired ve...     5  \n",
              "18  \\nI love these headphones. The battery life is...     5  \n",
              "19  \\nThese headphones are very comfortable, sound...     5  "
            ],
            "text/html": [
              "\n",
              "  <div id=\"df-0a1aa997-5ab7-4d53-a49e-baf2a9a1be2b\">\n",
              "    <div class=\"colab-df-container\">\n",
              "      <div>\n",
              "<style scoped>\n",
              "    .dataframe tbody tr th:only-of-type {\n",
              "        vertical-align: middle;\n",
              "    }\n",
              "\n",
              "    .dataframe tbody tr th {\n",
              "        vertical-align: top;\n",
              "    }\n",
              "\n",
              "    .dataframe thead th {\n",
              "        text-align: right;\n",
              "    }\n",
              "</style>\n",
              "<table border=\"1\" class=\"dataframe\">\n",
              "  <thead>\n",
              "    <tr style=\"text-align: right;\">\n",
              "      <th></th>\n",
              "      <th>Name</th>\n",
              "      <th>Price</th>\n",
              "      <th>Asin #</th>\n",
              "      <th>Title</th>\n",
              "      <th>Text</th>\n",
              "      <th>Score</th>\n",
              "    </tr>\n",
              "  </thead>\n",
              "  <tbody>\n",
              "    <tr>\n",
              "      <th>0</th>\n",
              "      <td>Beats Solo3 Wireless On-Ear Headphones - Apple...</td>\n",
              "      <td>$131.39</td>\n",
              "      <td>B07YVYZ8T5</td>\n",
              "      <td>\\nThis is like upgrading my entire brain. SO I...</td>\n",
              "      <td>\\nHow did I not logically know that these woul...</td>\n",
              "      <td>5</td>\n",
              "    </tr>\n",
              "    <tr>\n",
              "      <th>1</th>\n",
              "      <td>Beats Solo3 Wireless On-Ear Headphones - Apple...</td>\n",
              "      <td>$131.39</td>\n",
              "      <td>B07YVYZ8T5</td>\n",
              "      <td>\\nFit of Headphones\\n</td>\n",
              "      <td>\\nThe headphones are great when it comes to so...</td>\n",
              "      <td>4</td>\n",
              "    </tr>\n",
              "    <tr>\n",
              "      <th>2</th>\n",
              "      <td>Beats Solo3 Wireless On-Ear Headphones - Apple...</td>\n",
              "      <td>$131.39</td>\n",
              "      <td>B07YVYZ8T5</td>\n",
              "      <td>\\nJust what I needed\\n</td>\n",
              "      <td>\\nMy AirPods kept falling out of my ears while...</td>\n",
              "      <td>5</td>\n",
              "    </tr>\n",
              "    <tr>\n",
              "      <th>3</th>\n",
              "      <td>Beats Solo3 Wireless On-Ear Headphones - Apple...</td>\n",
              "      <td>$131.39</td>\n",
              "      <td>B07YVYZ8T5</td>\n",
              "      <td>\\nPleasant surprise\\n</td>\n",
              "      <td>\\nI have had issues with wireless earbuds fitt...</td>\n",
              "      <td>5</td>\n",
              "    </tr>\n",
              "    <tr>\n",
              "      <th>4</th>\n",
              "      <td>Beats Solo3 Wireless On-Ear Headphones - Apple...</td>\n",
              "      <td>$131.39</td>\n",
              "      <td>B07YVYZ8T5</td>\n",
              "      <td>\\neasy to use\\n</td>\n",
              "      <td>\\nThis is one item that I had to get to splurg...</td>\n",
              "      <td>4</td>\n",
              "    </tr>\n",
              "    <tr>\n",
              "      <th>5</th>\n",
              "      <td>Beats Solo3 Wireless On-Ear Headphones - Apple...</td>\n",
              "      <td>$131.39</td>\n",
              "      <td>B07YVYZ8T5</td>\n",
              "      <td>\\nGood for small ears!\\n</td>\n",
              "      <td>\\nI heard a lot of people complain because the...</td>\n",
              "      <td>5</td>\n",
              "    </tr>\n",
              "    <tr>\n",
              "      <th>6</th>\n",
              "      <td>Beats Solo3 Wireless On-Ear Headphones - Apple...</td>\n",
              "      <td>$131.39</td>\n",
              "      <td>B07YVYZ8T5</td>\n",
              "      <td>\\nLove this product\\n</td>\n",
              "      <td>\\nThis is a replacement pair.  Had a pair a fe...</td>\n",
              "      <td>5</td>\n",
              "    </tr>\n",
              "    <tr>\n",
              "      <th>7</th>\n",
              "      <td>Beats Solo3 Wireless On-Ear Headphones - Apple...</td>\n",
              "      <td>$131.39</td>\n",
              "      <td>B07YVYZ8T5</td>\n",
              "      <td>\\nAwesome Product\\n</td>\n",
              "      <td>\\nGreat headphones for the price. You can adju...</td>\n",
              "      <td>5</td>\n",
              "    </tr>\n",
              "    <tr>\n",
              "      <th>8</th>\n",
              "      <td>Beats Solo3 Wireless On-Ear Headphones - Apple...</td>\n",
              "      <td>$131.39</td>\n",
              "      <td>B07YVYZ8T5</td>\n",
              "      <td>\\nBreaking them in matters\\n</td>\n",
              "      <td>\\nI have a love hate relationship with these. ...</td>\n",
              "      <td>5</td>\n",
              "    </tr>\n",
              "    <tr>\n",
              "      <th>9</th>\n",
              "      <td>Beats Solo3 Wireless On-Ear Headphones - Apple...</td>\n",
              "      <td>$131.39</td>\n",
              "      <td>B07YVYZ8T5</td>\n",
              "      <td>\\nDreBeats are EVERYTHING!!!!\\n</td>\n",
              "      <td>\\nAbsolutely LOVE these headphones!! Sound qua...</td>\n",
              "      <td>5</td>\n",
              "    </tr>\n",
              "    <tr>\n",
              "      <th>10</th>\n",
              "      <td>Beats Studio3 Wireless Noise Cancelling Over-E...</td>\n",
              "      <td>$199.95</td>\n",
              "      <td>B08528YFM3</td>\n",
              "      <td>\\nPlease Read Before Buying.\\n</td>\n",
              "      <td>\\nMy rating falls close to a 1.5 for multiple ...</td>\n",
              "      <td>2</td>\n",
              "    </tr>\n",
              "    <tr>\n",
              "      <th>11</th>\n",
              "      <td>Beats Studio3 Wireless Noise Cancelling Over-E...</td>\n",
              "      <td>$199.95</td>\n",
              "      <td>B08528YFM3</td>\n",
              "      <td>\\nReally Beautiful and Quality Headphones, Bew...</td>\n",
              "      <td>\\nI really like these over the head headphones...</td>\n",
              "      <td>4</td>\n",
              "    </tr>\n",
              "    <tr>\n",
              "      <th>12</th>\n",
              "      <td>Beats Studio3 Wireless Noise Cancelling Over-E...</td>\n",
              "      <td>$199.95</td>\n",
              "      <td>B08528YFM3</td>\n",
              "      <td>\\nGood but could be better\\n</td>\n",
              "      <td>\\nI got these headphones to wear them when I w...</td>\n",
              "      <td>4</td>\n",
              "    </tr>\n",
              "    <tr>\n",
              "      <th>13</th>\n",
              "      <td>Beats Studio3 Wireless Noise Cancelling Over-E...</td>\n",
              "      <td>$199.95</td>\n",
              "      <td>B08528YFM3</td>\n",
              "      <td>\\nAMAZINING headphones better than the Solo 3 ...</td>\n",
              "      <td>\\nAMAZING headphones that perform better than ...</td>\n",
              "      <td>5</td>\n",
              "    </tr>\n",
              "    <tr>\n",
              "      <th>14</th>\n",
              "      <td>Beats Studio3 Wireless Noise Cancelling Over-E...</td>\n",
              "      <td>$199.95</td>\n",
              "      <td>B08528YFM3</td>\n",
              "      <td>\\nPerfect headphones for traveling and any noi...</td>\n",
              "      <td>\\nThese are the perfect noise-canceling headph...</td>\n",
              "      <td>5</td>\n",
              "    </tr>\n",
              "    <tr>\n",
              "      <th>15</th>\n",
              "      <td>Beats Studio3 Wireless Noise Cancelling Over-E...</td>\n",
              "      <td>$199.95</td>\n",
              "      <td>B08528YFM3</td>\n",
              "      <td>\\nThey’re great, but I have a few words of adv...</td>\n",
              "      <td>\\n1.) There quality and volume is amazing, but...</td>\n",
              "      <td>4</td>\n",
              "    </tr>\n",
              "    <tr>\n",
              "      <th>16</th>\n",
              "      <td>Beats Studio3 Wireless Noise Cancelling Over-E...</td>\n",
              "      <td>$199.95</td>\n",
              "      <td>B08528YFM3</td>\n",
              "      <td>\\nAmazing\\n</td>\n",
              "      <td>\\nthe box came it new. came with the headset, ...</td>\n",
              "      <td>5</td>\n",
              "    </tr>\n",
              "    <tr>\n",
              "      <th>17</th>\n",
              "      <td>Beats Studio3 Wireless Noise Cancelling Over-E...</td>\n",
              "      <td>$199.95</td>\n",
              "      <td>B08528YFM3</td>\n",
              "      <td>\\nLove Love Love\\n</td>\n",
              "      <td>\\nI purchased these because I had the wired ve...</td>\n",
              "      <td>5</td>\n",
              "    </tr>\n",
              "    <tr>\n",
              "      <th>18</th>\n",
              "      <td>Beats Studio3 Wireless Noise Cancelling Over-E...</td>\n",
              "      <td>$199.95</td>\n",
              "      <td>B08528YFM3</td>\n",
              "      <td>\\nLong battery life and amazing headphones\\n</td>\n",
              "      <td>\\nI love these headphones. The battery life is...</td>\n",
              "      <td>5</td>\n",
              "    </tr>\n",
              "    <tr>\n",
              "      <th>19</th>\n",
              "      <td>Beats Studio3 Wireless Noise Cancelling Over-E...</td>\n",
              "      <td>$199.95</td>\n",
              "      <td>B08528YFM3</td>\n",
              "      <td>\\nNice product\\n</td>\n",
              "      <td>\\nThese headphones are very comfortable, sound...</td>\n",
              "      <td>5</td>\n",
              "    </tr>\n",
              "  </tbody>\n",
              "</table>\n",
              "</div>\n",
              "      <button class=\"colab-df-convert\" onclick=\"convertToInteractive('df-0a1aa997-5ab7-4d53-a49e-baf2a9a1be2b')\"\n",
              "              title=\"Convert this dataframe to an interactive table.\"\n",
              "              style=\"display:none;\">\n",
              "        \n",
              "  <svg xmlns=\"http://www.w3.org/2000/svg\" height=\"24px\"viewBox=\"0 0 24 24\"\n",
              "       width=\"24px\">\n",
              "    <path d=\"M0 0h24v24H0V0z\" fill=\"none\"/>\n",
              "    <path d=\"M18.56 5.44l.94 2.06.94-2.06 2.06-.94-2.06-.94-.94-2.06-.94 2.06-2.06.94zm-11 1L8.5 8.5l.94-2.06 2.06-.94-2.06-.94L8.5 2.5l-.94 2.06-2.06.94zm10 10l.94 2.06.94-2.06 2.06-.94-2.06-.94-.94-2.06-.94 2.06-2.06.94z\"/><path d=\"M17.41 7.96l-1.37-1.37c-.4-.4-.92-.59-1.43-.59-.52 0-1.04.2-1.43.59L10.3 9.45l-7.72 7.72c-.78.78-.78 2.05 0 2.83L4 21.41c.39.39.9.59 1.41.59.51 0 1.02-.2 1.41-.59l7.78-7.78 2.81-2.81c.8-.78.8-2.07 0-2.86zM5.41 20L4 18.59l7.72-7.72 1.47 1.35L5.41 20z\"/>\n",
              "  </svg>\n",
              "      </button>\n",
              "      \n",
              "  <style>\n",
              "    .colab-df-container {\n",
              "      display:flex;\n",
              "      flex-wrap:wrap;\n",
              "      gap: 12px;\n",
              "    }\n",
              "\n",
              "    .colab-df-convert {\n",
              "      background-color: #E8F0FE;\n",
              "      border: none;\n",
              "      border-radius: 50%;\n",
              "      cursor: pointer;\n",
              "      display: none;\n",
              "      fill: #1967D2;\n",
              "      height: 32px;\n",
              "      padding: 0 0 0 0;\n",
              "      width: 32px;\n",
              "    }\n",
              "\n",
              "    .colab-df-convert:hover {\n",
              "      background-color: #E2EBFA;\n",
              "      box-shadow: 0px 1px 2px rgba(60, 64, 67, 0.3), 0px 1px 3px 1px rgba(60, 64, 67, 0.15);\n",
              "      fill: #174EA6;\n",
              "    }\n",
              "\n",
              "    [theme=dark] .colab-df-convert {\n",
              "      background-color: #3B4455;\n",
              "      fill: #D2E3FC;\n",
              "    }\n",
              "\n",
              "    [theme=dark] .colab-df-convert:hover {\n",
              "      background-color: #434B5C;\n",
              "      box-shadow: 0px 1px 3px 1px rgba(0, 0, 0, 0.15);\n",
              "      filter: drop-shadow(0px 1px 2px rgba(0, 0, 0, 0.3));\n",
              "      fill: #FFFFFF;\n",
              "    }\n",
              "  </style>\n",
              "\n",
              "      <script>\n",
              "        const buttonEl =\n",
              "          document.querySelector('#df-0a1aa997-5ab7-4d53-a49e-baf2a9a1be2b button.colab-df-convert');\n",
              "        buttonEl.style.display =\n",
              "          google.colab.kernel.accessAllowed ? 'block' : 'none';\n",
              "\n",
              "        async function convertToInteractive(key) {\n",
              "          const element = document.querySelector('#df-0a1aa997-5ab7-4d53-a49e-baf2a9a1be2b');\n",
              "          const dataTable =\n",
              "            await google.colab.kernel.invokeFunction('convertToInteractive',\n",
              "                                                     [key], {});\n",
              "          if (!dataTable) return;\n",
              "\n",
              "          const docLinkHtml = 'Like what you see? Visit the ' +\n",
              "            '<a target=\"_blank\" href=https://colab.research.google.com/notebooks/data_table.ipynb>data table notebook</a>'\n",
              "            + ' to learn more about interactive tables.';\n",
              "          element.innerHTML = '';\n",
              "          dataTable['output_type'] = 'display_data';\n",
              "          await google.colab.output.renderOutput(dataTable, element);\n",
              "          const docLink = document.createElement('div');\n",
              "          docLink.innerHTML = docLinkHtml;\n",
              "          element.appendChild(docLink);\n",
              "        }\n",
              "      </script>\n",
              "    </div>\n",
              "  </div>\n",
              "  "
            ]
          },
          "metadata": {},
          "execution_count": 94
        }
      ]
    },
    {
      "cell_type": "code",
      "source": [
        "df.sample(5)"
      ],
      "metadata": {
        "id": "f2fQ7iLk7Hs4",
        "colab": {
          "base_uri": "https://localhost:8080/",
          "height": 250
        },
        "outputId": "3e035b2a-0395-4a98-b690-ffb28bcaf58a"
      },
      "execution_count": null,
      "outputs": [
        {
          "output_type": "execute_result",
          "data": {
            "text/plain": [
              "                                                  Name    Price      Asin #  \\\n",
              "109  Wireless Earbuds Bluetooth Earbuds Wireless He...   $49.95  B096SSCV5K   \n",
              "2    Beats Solo3 Wireless On-Ear Headphones - Apple...  $131.39  B07YVYZ8T5   \n",
              "92   JBL VIBE 100 TWS - True Wireless In-Ear Headph...   $29.95  B095J62YQR   \n",
              "88   Srhythm NC25 Active Noise Cancelling Headphone...   $29.00  B083S6Q8VK   \n",
              "38   Apple EarPods Headphones with Lightning Connec...    $9.99  B01M0GB8CC   \n",
              "\n",
              "                                        Title  \\\n",
              "109                 \\nA bit big for my ears\\n   \n",
              "2                      \\nJust what I needed\\n   \n",
              "92                            \\nMas o menos\\n   \n",
              "88   \\nCalidad excelente por un buen precio\\n   \n",
              "38                         \\nGreat product!\\n   \n",
              "\n",
              "                                                  Text Score  \n",
              "109  \\nMy Apple EarPods had let me down in terms of...     4  \n",
              "2    \\nMy AirPods kept falling out of my ears while...     5  \n",
              "92   \\nTenia altisimas espectaciones ya que tengo a...     4  \n",
              "88   \\nMe ha sorprendido, la verdad. Es buena cance...     5  \n",
              "38   \\nI’ve been trying to purchase these exact hea...     5  "
            ],
            "text/html": [
              "\n",
              "  <div id=\"df-a20da44e-c11b-499a-b4cb-2851f147a4e5\">\n",
              "    <div class=\"colab-df-container\">\n",
              "      <div>\n",
              "<style scoped>\n",
              "    .dataframe tbody tr th:only-of-type {\n",
              "        vertical-align: middle;\n",
              "    }\n",
              "\n",
              "    .dataframe tbody tr th {\n",
              "        vertical-align: top;\n",
              "    }\n",
              "\n",
              "    .dataframe thead th {\n",
              "        text-align: right;\n",
              "    }\n",
              "</style>\n",
              "<table border=\"1\" class=\"dataframe\">\n",
              "  <thead>\n",
              "    <tr style=\"text-align: right;\">\n",
              "      <th></th>\n",
              "      <th>Name</th>\n",
              "      <th>Price</th>\n",
              "      <th>Asin #</th>\n",
              "      <th>Title</th>\n",
              "      <th>Text</th>\n",
              "      <th>Score</th>\n",
              "    </tr>\n",
              "  </thead>\n",
              "  <tbody>\n",
              "    <tr>\n",
              "      <th>109</th>\n",
              "      <td>Wireless Earbuds Bluetooth Earbuds Wireless He...</td>\n",
              "      <td>$49.95</td>\n",
              "      <td>B096SSCV5K</td>\n",
              "      <td>\\nA bit big for my ears\\n</td>\n",
              "      <td>\\nMy Apple EarPods had let me down in terms of...</td>\n",
              "      <td>4</td>\n",
              "    </tr>\n",
              "    <tr>\n",
              "      <th>2</th>\n",
              "      <td>Beats Solo3 Wireless On-Ear Headphones - Apple...</td>\n",
              "      <td>$131.39</td>\n",
              "      <td>B07YVYZ8T5</td>\n",
              "      <td>\\nJust what I needed\\n</td>\n",
              "      <td>\\nMy AirPods kept falling out of my ears while...</td>\n",
              "      <td>5</td>\n",
              "    </tr>\n",
              "    <tr>\n",
              "      <th>92</th>\n",
              "      <td>JBL VIBE 100 TWS - True Wireless In-Ear Headph...</td>\n",
              "      <td>$29.95</td>\n",
              "      <td>B095J62YQR</td>\n",
              "      <td>\\nMas o menos\\n</td>\n",
              "      <td>\\nTenia altisimas espectaciones ya que tengo a...</td>\n",
              "      <td>4</td>\n",
              "    </tr>\n",
              "    <tr>\n",
              "      <th>88</th>\n",
              "      <td>Srhythm NC25 Active Noise Cancelling Headphone...</td>\n",
              "      <td>$29.00</td>\n",
              "      <td>B083S6Q8VK</td>\n",
              "      <td>\\nCalidad excelente por un buen precio\\n</td>\n",
              "      <td>\\nMe ha sorprendido, la verdad. Es buena cance...</td>\n",
              "      <td>5</td>\n",
              "    </tr>\n",
              "    <tr>\n",
              "      <th>38</th>\n",
              "      <td>Apple EarPods Headphones with Lightning Connec...</td>\n",
              "      <td>$9.99</td>\n",
              "      <td>B01M0GB8CC</td>\n",
              "      <td>\\nGreat product!\\n</td>\n",
              "      <td>\\nI’ve been trying to purchase these exact hea...</td>\n",
              "      <td>5</td>\n",
              "    </tr>\n",
              "  </tbody>\n",
              "</table>\n",
              "</div>\n",
              "      <button class=\"colab-df-convert\" onclick=\"convertToInteractive('df-a20da44e-c11b-499a-b4cb-2851f147a4e5')\"\n",
              "              title=\"Convert this dataframe to an interactive table.\"\n",
              "              style=\"display:none;\">\n",
              "        \n",
              "  <svg xmlns=\"http://www.w3.org/2000/svg\" height=\"24px\"viewBox=\"0 0 24 24\"\n",
              "       width=\"24px\">\n",
              "    <path d=\"M0 0h24v24H0V0z\" fill=\"none\"/>\n",
              "    <path d=\"M18.56 5.44l.94 2.06.94-2.06 2.06-.94-2.06-.94-.94-2.06-.94 2.06-2.06.94zm-11 1L8.5 8.5l.94-2.06 2.06-.94-2.06-.94L8.5 2.5l-.94 2.06-2.06.94zm10 10l.94 2.06.94-2.06 2.06-.94-2.06-.94-.94-2.06-.94 2.06-2.06.94z\"/><path d=\"M17.41 7.96l-1.37-1.37c-.4-.4-.92-.59-1.43-.59-.52 0-1.04.2-1.43.59L10.3 9.45l-7.72 7.72c-.78.78-.78 2.05 0 2.83L4 21.41c.39.39.9.59 1.41.59.51 0 1.02-.2 1.41-.59l7.78-7.78 2.81-2.81c.8-.78.8-2.07 0-2.86zM5.41 20L4 18.59l7.72-7.72 1.47 1.35L5.41 20z\"/>\n",
              "  </svg>\n",
              "      </button>\n",
              "      \n",
              "  <style>\n",
              "    .colab-df-container {\n",
              "      display:flex;\n",
              "      flex-wrap:wrap;\n",
              "      gap: 12px;\n",
              "    }\n",
              "\n",
              "    .colab-df-convert {\n",
              "      background-color: #E8F0FE;\n",
              "      border: none;\n",
              "      border-radius: 50%;\n",
              "      cursor: pointer;\n",
              "      display: none;\n",
              "      fill: #1967D2;\n",
              "      height: 32px;\n",
              "      padding: 0 0 0 0;\n",
              "      width: 32px;\n",
              "    }\n",
              "\n",
              "    .colab-df-convert:hover {\n",
              "      background-color: #E2EBFA;\n",
              "      box-shadow: 0px 1px 2px rgba(60, 64, 67, 0.3), 0px 1px 3px 1px rgba(60, 64, 67, 0.15);\n",
              "      fill: #174EA6;\n",
              "    }\n",
              "\n",
              "    [theme=dark] .colab-df-convert {\n",
              "      background-color: #3B4455;\n",
              "      fill: #D2E3FC;\n",
              "    }\n",
              "\n",
              "    [theme=dark] .colab-df-convert:hover {\n",
              "      background-color: #434B5C;\n",
              "      box-shadow: 0px 1px 3px 1px rgba(0, 0, 0, 0.15);\n",
              "      filter: drop-shadow(0px 1px 2px rgba(0, 0, 0, 0.3));\n",
              "      fill: #FFFFFF;\n",
              "    }\n",
              "  </style>\n",
              "\n",
              "      <script>\n",
              "        const buttonEl =\n",
              "          document.querySelector('#df-a20da44e-c11b-499a-b4cb-2851f147a4e5 button.colab-df-convert');\n",
              "        buttonEl.style.display =\n",
              "          google.colab.kernel.accessAllowed ? 'block' : 'none';\n",
              "\n",
              "        async function convertToInteractive(key) {\n",
              "          const element = document.querySelector('#df-a20da44e-c11b-499a-b4cb-2851f147a4e5');\n",
              "          const dataTable =\n",
              "            await google.colab.kernel.invokeFunction('convertToInteractive',\n",
              "                                                     [key], {});\n",
              "          if (!dataTable) return;\n",
              "\n",
              "          const docLinkHtml = 'Like what you see? Visit the ' +\n",
              "            '<a target=\"_blank\" href=https://colab.research.google.com/notebooks/data_table.ipynb>data table notebook</a>'\n",
              "            + ' to learn more about interactive tables.';\n",
              "          element.innerHTML = '';\n",
              "          dataTable['output_type'] = 'display_data';\n",
              "          await google.colab.output.renderOutput(dataTable, element);\n",
              "          const docLink = document.createElement('div');\n",
              "          docLink.innerHTML = docLinkHtml;\n",
              "          element.appendChild(docLink);\n",
              "        }\n",
              "      </script>\n",
              "    </div>\n",
              "  </div>\n",
              "  "
            ]
          },
          "metadata": {},
          "execution_count": 91
        }
      ]
    },
    {
      "cell_type": "code",
      "source": [
        "#Saves the dataframe as a csv file\n",
        "df.to_csv('amazon_data.csv', index=True)"
      ],
      "metadata": {
        "id": "k6JyPY2Z2dkN"
      },
      "execution_count": null,
      "outputs": []
    },
    {
      "cell_type": "code",
      "source": [
        "#Downloads csv file to local machine\n",
        "from google.colab import files\n",
        "files.download('amazon_data.csv')"
      ],
      "metadata": {
        "colab": {
          "base_uri": "https://localhost:8080/",
          "height": 17
        },
        "id": "ZFJrkkcv3kUJ",
        "outputId": "29c4fddb-c946-4d53-dfa9-7a751c56f6e6"
      },
      "execution_count": null,
      "outputs": [
        {
          "output_type": "display_data",
          "data": {
            "text/plain": [
              "<IPython.core.display.Javascript object>"
            ],
            "application/javascript": [
              "\n",
              "    async function download(id, filename, size) {\n",
              "      if (!google.colab.kernel.accessAllowed) {\n",
              "        return;\n",
              "      }\n",
              "      const div = document.createElement('div');\n",
              "      const label = document.createElement('label');\n",
              "      label.textContent = `Downloading \"${filename}\": `;\n",
              "      div.appendChild(label);\n",
              "      const progress = document.createElement('progress');\n",
              "      progress.max = size;\n",
              "      div.appendChild(progress);\n",
              "      document.body.appendChild(div);\n",
              "\n",
              "      const buffers = [];\n",
              "      let downloaded = 0;\n",
              "\n",
              "      const channel = await google.colab.kernel.comms.open(id);\n",
              "      // Send a message to notify the kernel that we're ready.\n",
              "      channel.send({})\n",
              "\n",
              "      for await (const message of channel.messages) {\n",
              "        // Send a message to notify the kernel that we're ready.\n",
              "        channel.send({})\n",
              "        if (message.buffers) {\n",
              "          for (const buffer of message.buffers) {\n",
              "            buffers.push(buffer);\n",
              "            downloaded += buffer.byteLength;\n",
              "            progress.value = downloaded;\n",
              "          }\n",
              "        }\n",
              "      }\n",
              "      const blob = new Blob(buffers, {type: 'application/binary'});\n",
              "      const a = document.createElement('a');\n",
              "      a.href = window.URL.createObjectURL(blob);\n",
              "      a.download = filename;\n",
              "      div.appendChild(a);\n",
              "      a.click();\n",
              "      div.remove();\n",
              "    }\n",
              "  "
            ]
          },
          "metadata": {}
        },
        {
          "output_type": "display_data",
          "data": {
            "text/plain": [
              "<IPython.core.display.Javascript object>"
            ],
            "application/javascript": [
              "download(\"download_1b0684aa-6061-41b4-a8e1-474e7085bde3\", \"amazon_data.csv\", 228385)"
            ]
          },
          "metadata": {}
        }
      ]
    }
  ]
}